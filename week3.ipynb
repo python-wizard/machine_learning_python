{
 "cells": [
  {
   "cell_type": "markdown",
   "source": [
    "# Fraud detection\n",
    "Using Kaggle dataset in fraud_data.csv.\n",
    "\n",
    "Each row corresponds to a card transaction. Among features is Amount and features from V1 to V28.\n",
    "\n",
    "Target variable is found in the class column.\n",
    "1 corresponds to fraud.\n",
    "0 corresopnds to non-fraud, legitimate purchase."
   ],
   "metadata": {
    "collapsed": false
   }
  },
  {
   "cell_type": "code",
   "execution_count": 1,
   "outputs": [],
   "source": [
    "import numpy as np\n",
    "import pandas as pd"
   ],
   "metadata": {
    "collapsed": false
   }
  },
  {
   "cell_type": "markdown",
   "source": [
    "### Importing data"
   ],
   "metadata": {
    "collapsed": false
   }
  },
  {
   "cell_type": "code",
   "execution_count": 2,
   "outputs": [],
   "source": [
    "df = pd.read_csv('data/fraud_data.csv')"
   ],
   "metadata": {
    "collapsed": false
   }
  },
  {
   "cell_type": "code",
   "execution_count": 4,
   "outputs": [
    {
     "data": {
      "text/plain": "         V1        V2        V3        V4        V5        V6        V7  \\\n0  1.176563  0.323798  0.536927  1.047002 -0.368652 -0.728586  0.084678   \n1  0.681109 -3.934776 -3.801827 -1.147468 -0.735540 -0.501097  1.038865   \n2  1.140729  0.453484  0.247010  2.383132  0.343287  0.432804  0.093380   \n3 -1.107073 -3.298902 -0.184092 -1.795744  2.137564 -1.684992 -2.015606   \n4 -0.314818  0.866839 -0.124577 -0.627638  2.651762  3.428128  0.194637   \n\n         V8        V9       V10  ...       V21       V22       V23       V24  \\\n0 -0.069246 -0.266389  0.155315  ... -0.109627 -0.341365  0.057845  0.499180   \n1 -0.626979 -2.274423  1.527782  ...  0.652202  0.272684 -0.982151  0.165900   \n2  0.173310 -0.808999  0.775436  ... -0.003802  0.058556 -0.121177 -0.304215   \n3 -0.007181 -0.165760  0.869659  ...  0.130648  0.329445  0.927656 -0.049560   \n4  0.670674 -0.442658  0.133499  ... -0.312774 -0.799494 -0.064488  0.953062   \n\n        V25       V26       V27       V28  Amount  Class  \n0  0.415211 -0.581949  0.015472  0.018065    4.67      0  \n1  0.360251  0.195321 -0.256273  0.056501  912.00      0  \n2  0.645893  0.122600 -0.012115 -0.005945    1.00      0  \n3 -1.892866 -0.575431  0.266573  0.414184   62.10      0  \n4 -0.429550  0.158225  0.076943 -0.015051    2.67      0  \n\n[5 rows x 30 columns]",
      "text/html": "<div>\n<style scoped>\n    .dataframe tbody tr th:only-of-type {\n        vertical-align: middle;\n    }\n\n    .dataframe tbody tr th {\n        vertical-align: top;\n    }\n\n    .dataframe thead th {\n        text-align: right;\n    }\n</style>\n<table border=\"1\" class=\"dataframe\">\n  <thead>\n    <tr style=\"text-align: right;\">\n      <th></th>\n      <th>V1</th>\n      <th>V2</th>\n      <th>V3</th>\n      <th>V4</th>\n      <th>V5</th>\n      <th>V6</th>\n      <th>V7</th>\n      <th>V8</th>\n      <th>V9</th>\n      <th>V10</th>\n      <th>...</th>\n      <th>V21</th>\n      <th>V22</th>\n      <th>V23</th>\n      <th>V24</th>\n      <th>V25</th>\n      <th>V26</th>\n      <th>V27</th>\n      <th>V28</th>\n      <th>Amount</th>\n      <th>Class</th>\n    </tr>\n  </thead>\n  <tbody>\n    <tr>\n      <th>0</th>\n      <td>1.176563</td>\n      <td>0.323798</td>\n      <td>0.536927</td>\n      <td>1.047002</td>\n      <td>-0.368652</td>\n      <td>-0.728586</td>\n      <td>0.084678</td>\n      <td>-0.069246</td>\n      <td>-0.266389</td>\n      <td>0.155315</td>\n      <td>...</td>\n      <td>-0.109627</td>\n      <td>-0.341365</td>\n      <td>0.057845</td>\n      <td>0.499180</td>\n      <td>0.415211</td>\n      <td>-0.581949</td>\n      <td>0.015472</td>\n      <td>0.018065</td>\n      <td>4.67</td>\n      <td>0</td>\n    </tr>\n    <tr>\n      <th>1</th>\n      <td>0.681109</td>\n      <td>-3.934776</td>\n      <td>-3.801827</td>\n      <td>-1.147468</td>\n      <td>-0.735540</td>\n      <td>-0.501097</td>\n      <td>1.038865</td>\n      <td>-0.626979</td>\n      <td>-2.274423</td>\n      <td>1.527782</td>\n      <td>...</td>\n      <td>0.652202</td>\n      <td>0.272684</td>\n      <td>-0.982151</td>\n      <td>0.165900</td>\n      <td>0.360251</td>\n      <td>0.195321</td>\n      <td>-0.256273</td>\n      <td>0.056501</td>\n      <td>912.00</td>\n      <td>0</td>\n    </tr>\n    <tr>\n      <th>2</th>\n      <td>1.140729</td>\n      <td>0.453484</td>\n      <td>0.247010</td>\n      <td>2.383132</td>\n      <td>0.343287</td>\n      <td>0.432804</td>\n      <td>0.093380</td>\n      <td>0.173310</td>\n      <td>-0.808999</td>\n      <td>0.775436</td>\n      <td>...</td>\n      <td>-0.003802</td>\n      <td>0.058556</td>\n      <td>-0.121177</td>\n      <td>-0.304215</td>\n      <td>0.645893</td>\n      <td>0.122600</td>\n      <td>-0.012115</td>\n      <td>-0.005945</td>\n      <td>1.00</td>\n      <td>0</td>\n    </tr>\n    <tr>\n      <th>3</th>\n      <td>-1.107073</td>\n      <td>-3.298902</td>\n      <td>-0.184092</td>\n      <td>-1.795744</td>\n      <td>2.137564</td>\n      <td>-1.684992</td>\n      <td>-2.015606</td>\n      <td>-0.007181</td>\n      <td>-0.165760</td>\n      <td>0.869659</td>\n      <td>...</td>\n      <td>0.130648</td>\n      <td>0.329445</td>\n      <td>0.927656</td>\n      <td>-0.049560</td>\n      <td>-1.892866</td>\n      <td>-0.575431</td>\n      <td>0.266573</td>\n      <td>0.414184</td>\n      <td>62.10</td>\n      <td>0</td>\n    </tr>\n    <tr>\n      <th>4</th>\n      <td>-0.314818</td>\n      <td>0.866839</td>\n      <td>-0.124577</td>\n      <td>-0.627638</td>\n      <td>2.651762</td>\n      <td>3.428128</td>\n      <td>0.194637</td>\n      <td>0.670674</td>\n      <td>-0.442658</td>\n      <td>0.133499</td>\n      <td>...</td>\n      <td>-0.312774</td>\n      <td>-0.799494</td>\n      <td>-0.064488</td>\n      <td>0.953062</td>\n      <td>-0.429550</td>\n      <td>0.158225</td>\n      <td>0.076943</td>\n      <td>-0.015051</td>\n      <td>2.67</td>\n      <td>0</td>\n    </tr>\n  </tbody>\n</table>\n<p>5 rows × 30 columns</p>\n</div>"
     },
     "execution_count": 4,
     "metadata": {},
     "output_type": "execute_result"
    }
   ],
   "source": [
    "df.head()"
   ],
   "metadata": {
    "collapsed": false
   }
  }
 ],
 "metadata": {
  "kernelspec": {
   "display_name": "Python 3",
   "language": "python",
   "name": "python3"
  },
  "language_info": {
   "codemirror_mode": {
    "name": "ipython",
    "version": 2
   },
   "file_extension": ".py",
   "mimetype": "text/x-python",
   "name": "python",
   "nbconvert_exporter": "python",
   "pygments_lexer": "ipython2",
   "version": "2.7.6"
  }
 },
 "nbformat": 4,
 "nbformat_minor": 0
}
